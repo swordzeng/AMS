{
 "cells": [
  {
   "cell_type": "code",
   "execution_count": 69,
   "metadata": {
    "scrolled": true
   },
   "outputs": [
    {
     "data": {
      "text/html": [
       "<div>\n",
       "<style scoped>\n",
       "    .dataframe tbody tr th:only-of-type {\n",
       "        vertical-align: middle;\n",
       "    }\n",
       "\n",
       "    .dataframe tbody tr th {\n",
       "        vertical-align: top;\n",
       "    }\n",
       "\n",
       "    .dataframe thead th {\n",
       "        text-align: right;\n",
       "    }\n",
       "</style>\n",
       "<table border=\"1\" class=\"dataframe\">\n",
       "  <thead>\n",
       "    <tr style=\"text-align: right;\">\n",
       "      <th></th>\n",
       "      <th>Date</th>\n",
       "      <th>AccountID</th>\n",
       "      <th>SymbolCode</th>\n",
       "      <th>SymbolName</th>\n",
       "      <th>CurTrade</th>\n",
       "      <th>QtyPre</th>\n",
       "      <th>CostPre</th>\n",
       "      <th>ClosePre</th>\n",
       "      <th>PL_Realized_Pre</th>\n",
       "      <th>PL_Interest_Pre</th>\n",
       "    </tr>\n",
       "  </thead>\n",
       "  <tbody>\n",
       "  </tbody>\n",
       "</table>\n",
       "</div>"
      ],
      "text/plain": [
       "Empty DataFrame\n",
       "Columns: [Date, AccountID, SymbolCode, SymbolName, CurTrade, QtyPre, CostPre, ClosePre, PL_Realized_Pre, PL_Interest_Pre]\n",
       "Index: []"
      ]
     },
     "execution_count": 69,
     "metadata": {},
     "output_type": "execute_result"
    }
   ],
   "source": [
    "import portfolio\n",
    "import pandas as pd\n",
    "import sqlite3\n",
    "import datetime\n",
    "\n",
    "dtStr = '2019-11-28'\n",
    "\n",
    "dt = datetime.datetime.strptime(dtStr, '%Y-%m-%d').date()\n",
    "dtPre = dt - datetime.timedelta(days=1)\n",
    "dtPreStr = datetime.datetime.strftime(dtPre, '%Y-%m-%d')\n",
    "\n",
    "db = sqlite3.connect('AMS.db')\n",
    "query = \"select * from HOlding_Table where Date = '{}'\".format(dtPreStr)\n",
    "dfHoldPre = pd.read_sql(query, con=db)\n",
    "dfMVPre = dfHoldPre[['AccountID','SymbolCode','SymbolName','CurTrade','Qty','Cost','Close','PL_Realized','PL_Interest']]\n",
    "dfMVPre.rename(columns={'Qty':'QtyPre', 'Cost':'CostPre', 'Close':'ClosePre', 'PL_Realized':'PL_Realized_Pre', 'PL_Interest':'PL_Interest_Pre'}, inplace = True)\n",
    "dfMVPre.insert(0,'Date',dt)\n",
    "dfMVPre"
   ]
  },
  {
   "cell_type": "code",
   "execution_count": 70,
   "metadata": {},
   "outputs": [
    {
     "ename": "ValueError",
     "evalue": "cannot set a frame with no defined index and a scalar",
     "output_type": "error",
     "traceback": [
      "\u001b[1;31m---------------------------------------------------------------------------\u001b[0m",
      "\u001b[1;31mValueError\u001b[0m                                Traceback (most recent call last)",
      "\u001b[1;32m<ipython-input-70-5a2605d80131>\u001b[0m in \u001b[0;36m<module>\u001b[1;34m\u001b[0m\n\u001b[0;32m     10\u001b[0m \u001b[1;32melse\u001b[0m\u001b[1;33m:\u001b[0m\u001b[1;33m\u001b[0m\u001b[1;33m\u001b[0m\u001b[0m\n\u001b[0;32m     11\u001b[0m     \u001b[0mdf_MV_Buy\u001b[0m \u001b[1;33m=\u001b[0m \u001b[0mdfMVPre\u001b[0m\u001b[1;33m\u001b[0m\u001b[1;33m\u001b[0m\u001b[0m\n\u001b[1;32m---> 12\u001b[1;33m     \u001b[0mdf_MV_Buy\u001b[0m\u001b[1;33m.\u001b[0m\u001b[0mloc\u001b[0m\u001b[1;33m[\u001b[0m\u001b[1;33m:\u001b[0m\u001b[1;33m,\u001b[0m\u001b[1;34m'QtyBuy'\u001b[0m\u001b[1;33m]\u001b[0m \u001b[1;33m=\u001b[0m \u001b[1;36m0\u001b[0m\u001b[1;33m\u001b[0m\u001b[1;33m\u001b[0m\u001b[0m\n\u001b[0m\u001b[0;32m     13\u001b[0m     \u001b[0mdf_MV_Buy\u001b[0m\u001b[1;33m.\u001b[0m\u001b[0mloc\u001b[0m\u001b[1;33m[\u001b[0m\u001b[1;33m:\u001b[0m\u001b[1;33m,\u001b[0m\u001b[1;34m'CostBuy'\u001b[0m\u001b[1;33m]\u001b[0m \u001b[1;33m=\u001b[0m \u001b[1;36m0\u001b[0m\u001b[1;33m\u001b[0m\u001b[1;33m\u001b[0m\u001b[0m\n\u001b[0;32m     14\u001b[0m \u001b[1;33m\u001b[0m\u001b[0m\n",
      "\u001b[1;32md:\\appdata\\python3\\lib\\site-packages\\pandas\\core\\indexing.py\u001b[0m in \u001b[0;36m__setitem__\u001b[1;34m(self, key, value)\u001b[0m\n\u001b[0;32m    187\u001b[0m             \u001b[0mkey\u001b[0m \u001b[1;33m=\u001b[0m \u001b[0mcom\u001b[0m\u001b[1;33m.\u001b[0m\u001b[0m_apply_if_callable\u001b[0m\u001b[1;33m(\u001b[0m\u001b[0mkey\u001b[0m\u001b[1;33m,\u001b[0m \u001b[0mself\u001b[0m\u001b[1;33m.\u001b[0m\u001b[0mobj\u001b[0m\u001b[1;33m)\u001b[0m\u001b[1;33m\u001b[0m\u001b[1;33m\u001b[0m\u001b[0m\n\u001b[0;32m    188\u001b[0m         \u001b[0mindexer\u001b[0m \u001b[1;33m=\u001b[0m \u001b[0mself\u001b[0m\u001b[1;33m.\u001b[0m\u001b[0m_get_setitem_indexer\u001b[0m\u001b[1;33m(\u001b[0m\u001b[0mkey\u001b[0m\u001b[1;33m)\u001b[0m\u001b[1;33m\u001b[0m\u001b[1;33m\u001b[0m\u001b[0m\n\u001b[1;32m--> 189\u001b[1;33m         \u001b[0mself\u001b[0m\u001b[1;33m.\u001b[0m\u001b[0m_setitem_with_indexer\u001b[0m\u001b[1;33m(\u001b[0m\u001b[0mindexer\u001b[0m\u001b[1;33m,\u001b[0m \u001b[0mvalue\u001b[0m\u001b[1;33m)\u001b[0m\u001b[1;33m\u001b[0m\u001b[1;33m\u001b[0m\u001b[0m\n\u001b[0m\u001b[0;32m    190\u001b[0m \u001b[1;33m\u001b[0m\u001b[0m\n\u001b[0;32m    191\u001b[0m     \u001b[1;32mdef\u001b[0m \u001b[0m_validate_key\u001b[0m\u001b[1;33m(\u001b[0m\u001b[0mself\u001b[0m\u001b[1;33m,\u001b[0m \u001b[0mkey\u001b[0m\u001b[1;33m,\u001b[0m \u001b[0maxis\u001b[0m\u001b[1;33m)\u001b[0m\u001b[1;33m:\u001b[0m\u001b[1;33m\u001b[0m\u001b[1;33m\u001b[0m\u001b[0m\n",
      "\u001b[1;32md:\\appdata\\python3\\lib\\site-packages\\pandas\\core\\indexing.py\u001b[0m in \u001b[0;36m_setitem_with_indexer\u001b[1;34m(self, indexer, value)\u001b[0m\n\u001b[0;32m    354\u001b[0m                         \u001b[1;32mif\u001b[0m \u001b[0many\u001b[0m\u001b[1;33m(\u001b[0m\u001b[1;32mnot\u001b[0m \u001b[0ml\u001b[0m \u001b[1;32mfor\u001b[0m \u001b[0ml\u001b[0m \u001b[1;32min\u001b[0m \u001b[0mlen_non_info_axes\u001b[0m\u001b[1;33m)\u001b[0m\u001b[1;33m:\u001b[0m\u001b[1;33m\u001b[0m\u001b[1;33m\u001b[0m\u001b[0m\n\u001b[0;32m    355\u001b[0m                             \u001b[1;32mif\u001b[0m \u001b[1;32mnot\u001b[0m \u001b[0mis_list_like_indexer\u001b[0m\u001b[1;33m(\u001b[0m\u001b[0mvalue\u001b[0m\u001b[1;33m)\u001b[0m\u001b[1;33m:\u001b[0m\u001b[1;33m\u001b[0m\u001b[1;33m\u001b[0m\u001b[0m\n\u001b[1;32m--> 356\u001b[1;33m                                 raise ValueError(\"cannot set a frame with no \"\n\u001b[0m\u001b[0;32m    357\u001b[0m                                                  \"defined index and a scalar\")\n\u001b[0;32m    358\u001b[0m                             \u001b[0mself\u001b[0m\u001b[1;33m.\u001b[0m\u001b[0mobj\u001b[0m\u001b[1;33m[\u001b[0m\u001b[0mkey\u001b[0m\u001b[1;33m]\u001b[0m \u001b[1;33m=\u001b[0m \u001b[0mvalue\u001b[0m\u001b[1;33m\u001b[0m\u001b[1;33m\u001b[0m\u001b[0m\n",
      "\u001b[1;31mValueError\u001b[0m: cannot set a frame with no defined index and a scalar"
     ]
    }
   ],
   "source": [
    "query = \"select AccountID,SymbolCode,SymbolName,CurTrade,Qty AS QtyBuy,SettleAmt from order_table where OrderType in ('Buy','Bonus') and Date = '{}'\".format(dt)\n",
    "dfBuy =  pd.read_sql(query, con=db)\n",
    "dfBuy = dfBuy.groupby(['AccountID','SymbolCode','SymbolName','CurTrade']).sum()\n",
    "if dfBuy.empty == False:\n",
    "    dfBuy.insert(0,'Date',dt)\n",
    "    dfBuy['CostBuy'] = abs(dfBuy['SettleAmt'])/dfBuy['QtyBuy']\n",
    "    dfBuy.drop(columns=['SettleAmt'],inplace=True)\n",
    "    dfBuy.reset_index(inplace =True)\n",
    "    df_MV_Buy = pd.merge(dfMVPre,dfBuy,on=['Date','AccountID','SymbolCode','SymbolName','CurTrade'],how='outer') \n",
    "else:\n",
    "    df_MV_Buy = dfMVPre\n",
    "    df_MV_Buy.loc[:,'QtyBuy'] = 0\n",
    "    df_MV_Buy.loc[:,'CostBuy'] = 0\n",
    "\n",
    "df_MV_Buy.fillna(0,inplace=True)\n",
    "df_MV_Buy"
   ]
  },
  {
   "cell_type": "code",
   "execution_count": 72,
   "metadata": {},
   "outputs": [
    {
     "data": {
      "text/html": [
       "<div>\n",
       "<style scoped>\n",
       "    .dataframe tbody tr th:only-of-type {\n",
       "        vertical-align: middle;\n",
       "    }\n",
       "\n",
       "    .dataframe tbody tr th {\n",
       "        vertical-align: top;\n",
       "    }\n",
       "\n",
       "    .dataframe thead th {\n",
       "        text-align: right;\n",
       "    }\n",
       "</style>\n",
       "<table border=\"1\" class=\"dataframe\">\n",
       "  <thead>\n",
       "    <tr style=\"text-align: right;\">\n",
       "      <th></th>\n",
       "      <th>QtyPre</th>\n",
       "      <th>CostPre</th>\n",
       "      <th>ClosePre</th>\n",
       "      <th>PL_Realized_Pre</th>\n",
       "      <th>PL_Interest_Pre</th>\n",
       "      <th>AccountID</th>\n",
       "      <th>SymbolCode</th>\n",
       "      <th>SymbolName</th>\n",
       "      <th>CurTrade</th>\n",
       "      <th>Date</th>\n",
       "      <th>QtySell</th>\n",
       "      <th>PriceSell</th>\n",
       "    </tr>\n",
       "  </thead>\n",
       "  <tbody>\n",
       "    <tr>\n",
       "      <th>0</th>\n",
       "      <td>0</td>\n",
       "      <td>0</td>\n",
       "      <td>0</td>\n",
       "      <td>0</td>\n",
       "      <td>0</td>\n",
       "      <td>FUTU</td>\n",
       "      <td>8036.HK</td>\n",
       "      <td>电子交易集团</td>\n",
       "      <td>HKD</td>\n",
       "      <td>2019-11-28</td>\n",
       "      <td>-300000</td>\n",
       "      <td>-0.193577</td>\n",
       "    </tr>\n",
       "  </tbody>\n",
       "</table>\n",
       "</div>"
      ],
      "text/plain": [
       "   QtyPre  CostPre  ClosePre  PL_Realized_Pre  PL_Interest_Pre AccountID  \\\n",
       "0       0        0         0                0                0      FUTU   \n",
       "\n",
       "  SymbolCode SymbolName CurTrade        Date  QtySell  PriceSell  \n",
       "0    8036.HK     电子交易集团      HKD  2019-11-28  -300000  -0.193577  "
      ]
     },
     "execution_count": 72,
     "metadata": {},
     "output_type": "execute_result"
    }
   ],
   "source": [
    "query = \"select AccountID,SymbolCode,SymbolName,CurTrade,Qty AS QtySell,SettleAmt from order_table where OrderType='Sell' and Date = '{}'\".format(dt)\n",
    "dfSell =  pd.read_sql(query, con=db)\n",
    "dfSell = dfSell.groupby(['AccountID','SymbolCode','SymbolName','CurTrade']).sum()\n",
    "if dfSell.empty == False:\n",
    "    dfSell.insert(0,'Date',dt)\n",
    "    dfSell['PriceSell'] = abs(dfSell['SettleAmt'])/dfSell['QtySell']\n",
    "    dfSell.drop(columns=['SettleAmt'],inplace=True)\n",
    "    dfSell.reset_index(inplace =True)\n",
    "    df_MV_Buy_Sell = pd.merge(df_MV_Buy,dfSell,on=['Date','AccountID','SymbolCode','SymbolName','CurTrade'],how='outer')\n",
    "else:\n",
    "    df_MV_Buy_Sell = df_MV_Buy\n",
    "    df_MV_Buy_Sell.loc[:,'QtySell'] = 0\n",
    "    df_MV_Buy_Sell.loc[:,'PriceSell'] = 0\n",
    "\n",
    "df_MV_Buy_Sell.fillna(0,inplace=True)\n",
    "df_MV_Buy_Sell"
   ]
  },
  {
   "cell_type": "code",
   "execution_count": 32,
   "metadata": {},
   "outputs": [
    {
     "data": {
      "text/html": [
       "<div>\n",
       "<style scoped>\n",
       "    .dataframe tbody tr th:only-of-type {\n",
       "        vertical-align: middle;\n",
       "    }\n",
       "\n",
       "    .dataframe tbody tr th {\n",
       "        vertical-align: top;\n",
       "    }\n",
       "\n",
       "    .dataframe thead th {\n",
       "        text-align: right;\n",
       "    }\n",
       "</style>\n",
       "<table border=\"1\" class=\"dataframe\">\n",
       "  <thead>\n",
       "    <tr style=\"text-align: right;\">\n",
       "      <th></th>\n",
       "      <th></th>\n",
       "      <th>MoneyOut</th>\n",
       "    </tr>\n",
       "    <tr>\n",
       "      <th>AccountID</th>\n",
       "      <th>SymbolCode</th>\n",
       "      <th></th>\n",
       "    </tr>\n",
       "  </thead>\n",
       "  <tbody>\n",
       "    <tr>\n",
       "      <th>FUTU</th>\n",
       "      <th>HKD</th>\n",
       "      <td>-35686</td>\n",
       "    </tr>\n",
       "  </tbody>\n",
       "</table>\n",
       "</div>"
      ],
      "text/plain": [
       "                      MoneyOut\n",
       "AccountID SymbolCode          \n",
       "FUTU      HKD           -35686"
      ]
     },
     "execution_count": 32,
     "metadata": {},
     "output_type": "execute_result"
    }
   ],
   "source": [
    "query = \"select AccountID,SymbolCode,SettleAmt AS MoneyOut from order_table where OrderType ='Withdraw' and Date = '{}'\".format(dt)\n",
    "dfMoneyOut =  pd.read_sql(query, con=db)\n",
    "dfMoneyOut = dfMoneyOut.groupby(['AccountID','SymbolCode']).sum()\n",
    "#dfMoneyIn.reset_index(inplace =True)\n",
    "dfMoneyOut"
   ]
  },
  {
   "cell_type": "code",
   "execution_count": 30,
   "metadata": {},
   "outputs": [
    {
     "data": {
      "text/html": [
       "<div>\n",
       "<style scoped>\n",
       "    .dataframe tbody tr th:only-of-type {\n",
       "        vertical-align: middle;\n",
       "    }\n",
       "\n",
       "    .dataframe tbody tr th {\n",
       "        vertical-align: top;\n",
       "    }\n",
       "\n",
       "    .dataframe thead th {\n",
       "        text-align: right;\n",
       "    }\n",
       "</style>\n",
       "<table border=\"1\" class=\"dataframe\">\n",
       "  <thead>\n",
       "    <tr style=\"text-align: right;\">\n",
       "      <th></th>\n",
       "    </tr>\n",
       "  </thead>\n",
       "  <tbody>\n",
       "  </tbody>\n",
       "</table>\n",
       "</div>"
      ],
      "text/plain": [
       "Empty DataFrame\n",
       "Columns: []\n",
       "Index: []"
      ]
     },
     "execution_count": 30,
     "metadata": {},
     "output_type": "execute_result"
    }
   ],
   "source": [
    "query = \"select AccountID,SymbolCode,SettleAmt AS MoneyIN from order_table where OrderType ='Deposit' and Date = '{}'\".format(dt)\n",
    "dfMoneyIn =  pd.read_sql(query, con=db)\n",
    "dfMoneyIn = dfMoneyIn.groupby(['AccountID','SymbolCode']).sum()\n",
    "#dfMoneyIn.reset_index(inplace =True)\n",
    "dfMoneyIn"
   ]
  },
  {
   "cell_type": "code",
   "execution_count": 33,
   "metadata": {},
   "outputs": [
    {
     "data": {
      "text/html": [
       "<div>\n",
       "<style scoped>\n",
       "    .dataframe tbody tr th:only-of-type {\n",
       "        vertical-align: middle;\n",
       "    }\n",
       "\n",
       "    .dataframe tbody tr th {\n",
       "        vertical-align: top;\n",
       "    }\n",
       "\n",
       "    .dataframe thead th {\n",
       "        text-align: right;\n",
       "    }\n",
       "</style>\n",
       "<table border=\"1\" class=\"dataframe\">\n",
       "  <thead>\n",
       "    <tr style=\"text-align: right;\">\n",
       "      <th></th>\n",
       "    </tr>\n",
       "  </thead>\n",
       "  <tbody>\n",
       "  </tbody>\n",
       "</table>\n",
       "</div>"
      ],
      "text/plain": [
       "Empty DataFrame\n",
       "Columns: []\n",
       "Index: []"
      ]
     },
     "execution_count": 33,
     "metadata": {},
     "output_type": "execute_result"
    }
   ],
   "source": [
    "query = \"select AccountID,SymbolCode,SettleAmt AS Interest from order_table where OrderType ='Interest' and Date = '{}'\".format(dt)\n",
    "dfInterest =  pd.read_sql(query, con=db)\n",
    "dfInterest = dfInterest.groupby(['AccountID','SymbolCode']).sum()\n",
    "#dfMoneyIn.reset_index(inplace =True)\n",
    "dfInterest"
   ]
  },
  {
   "cell_type": "code",
   "execution_count": null,
   "metadata": {},
   "outputs": [],
   "source": []
  }
 ],
 "metadata": {
  "kernelspec": {
   "display_name": "Python 3",
   "language": "python",
   "name": "python3"
  },
  "language_info": {
   "codemirror_mode": {
    "name": "ipython",
    "version": 3
   },
   "file_extension": ".py",
   "mimetype": "text/x-python",
   "name": "python",
   "nbconvert_exporter": "python",
   "pygments_lexer": "ipython3",
   "version": "3.7.2"
  }
 },
 "nbformat": 4,
 "nbformat_minor": 2
}
