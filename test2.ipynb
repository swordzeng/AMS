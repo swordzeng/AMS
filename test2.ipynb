{
 "cells": [
  {
   "cell_type": "code",
   "execution_count": 1,
   "metadata": {},
   "outputs": [
    {
     "name": "stdout",
     "output_type": "stream",
     "text": [
      "################# cal holding @2020-01-01\n",
      "################# cal holding @2020-01-02\n",
      "################# cal holding @2020-01-03\n",
      "################# cal holding @2020-01-06\n",
      "################# cal holding @2020-01-07\n",
      "################# cal holding @2020-01-08\n",
      "################# cal holding @2020-01-09\n",
      "################# cal holding @2020-01-10\n",
      "################# cal holding @2020-01-13\n",
      "################# cal holding @2020-01-14\n",
      "################# cal holding @2020-01-15\n",
      "################# cal holding @2020-01-16\n",
      "################# cal holding @2020-01-17\n",
      "################# cal holding @2020-01-20\n",
      "################# cal holding @2020-01-21\n",
      "################# cal holding @2020-01-22\n",
      "################# cal holding @2020-01-23\n",
      "################# cal holding @2020-01-24\n",
      "################# cal holding @2020-01-27\n",
      "################# cal holding @2020-01-28\n",
      "################# cal holding @2020-01-29\n",
      "################# cal holding @2020-01-30\n",
      "################# cal holding @2020-01-31\n",
      "################# cal holding @2020-02-03\n",
      "################# cal holding @2020-02-04\n",
      "################# cal holding @2020-02-05\n",
      "################# cal holding @2020-02-06\n",
      "################# cal holding @2020-02-07\n",
      "################# cal holding @2020-02-10\n",
      "################# cal holding @2020-02-11\n",
      "################# cal holding @2020-02-12\n",
      "################# cal holding @2020-02-13\n",
      "################# cal holding @2020-02-14\n",
      "################# cal holding @2020-02-17\n",
      "################# cal holding @2020-02-18\n",
      "################# cal holding @2020-02-19\n",
      "################# cal holding @2020-02-20\n",
      "################# cal holding @2020-02-21\n",
      "################# cal holding @2020-02-24\n",
      "################# cal holding @2020-02-25\n",
      "################# cal holding @2020-02-26\n",
      "################# cal holding @2020-02-27\n",
      "################# cal holding @2020-02-28\n",
      "################# cal holding @2020-03-02\n",
      "################# cal holding @2020-03-03\n",
      "################# cal holding @2020-03-04\n",
      "################# cal holding @2020-03-05\n",
      "################# cal holding @2020-03-06\n"
     ]
    }
   ],
   "source": [
    "import cal_service as cal\n",
    "\n",
    "cal.cal_holding(startDate='2020-01-01')\n",
    "#cal.save_exchange_rate()"
   ]
  },
  {
   "cell_type": "code",
   "execution_count": 9,
   "metadata": {},
   "outputs": [
    {
     "data": {
      "text/html": [
       "<div>\n",
       "<style scoped>\n",
       "    .dataframe tbody tr th:only-of-type {\n",
       "        vertical-align: middle;\n",
       "    }\n",
       "\n",
       "    .dataframe tbody tr th {\n",
       "        vertical-align: top;\n",
       "    }\n",
       "\n",
       "    .dataframe thead th {\n",
       "        text-align: right;\n",
       "    }\n",
       "</style>\n",
       "<table border=\"1\" class=\"dataframe\">\n",
       "  <thead>\n",
       "    <tr style=\"text-align: right;\">\n",
       "      <th></th>\n",
       "      <th>AccountID</th>\n",
       "      <th>SymbolCode</th>\n",
       "      <th>Qty</th>\n",
       "    </tr>\n",
       "  </thead>\n",
       "  <tbody>\n",
       "    <tr>\n",
       "      <th>0</th>\n",
       "      <td>CITIC</td>\n",
       "      <td>CNY</td>\n",
       "      <td>115547.00</td>\n",
       "    </tr>\n",
       "    <tr>\n",
       "      <th>1</th>\n",
       "      <td>CMS</td>\n",
       "      <td>CNY</td>\n",
       "      <td>93273.60</td>\n",
       "    </tr>\n",
       "    <tr>\n",
       "      <th>2</th>\n",
       "      <td>CMS</td>\n",
       "      <td>HKD</td>\n",
       "      <td>45000.00</td>\n",
       "    </tr>\n",
       "    <tr>\n",
       "      <th>3</th>\n",
       "      <td>FUTU</td>\n",
       "      <td>HKD</td>\n",
       "      <td>224534.24</td>\n",
       "    </tr>\n",
       "    <tr>\n",
       "      <th>4</th>\n",
       "      <td>HUATAI</td>\n",
       "      <td>CNY</td>\n",
       "      <td>25000.00</td>\n",
       "    </tr>\n",
       "  </tbody>\n",
       "</table>\n",
       "</div>"
      ],
      "text/plain": [
       "  AccountID SymbolCode        Qty\n",
       "0     CITIC        CNY  115547.00\n",
       "1       CMS        CNY   93273.60\n",
       "2       CMS        HKD   45000.00\n",
       "3      FUTU        HKD  224534.24\n",
       "4    HUATAI        CNY   25000.00"
      ]
     },
     "execution_count": 9,
     "metadata": {},
     "output_type": "execute_result"
    }
   ],
   "source": [
    "import db_service as db\n",
    "import pandas as pd\n",
    "import sqlite3\n",
    "\n",
    "query = \"\"\"SELECT * FROM Order_Table WHERE SymbolCode in {} \"\"\".format(\"('CNY','HKD')\")\n",
    "\n",
    "conn = sqlite3.connect('AMS.db')\n",
    "hold = pd.read_sql(query, con = conn)\n",
    "holdMax = hold[['AccountID','SymbolCode','Qty']].groupby(by=['AccountID','SymbolCode'], as_index=False).max()\n",
    "holdMax"
   ]
  },
  {
   "cell_type": "code",
   "execution_count": 19,
   "metadata": {},
   "outputs": [
    {
     "data": {
      "text/html": [
       "<div>\n",
       "<style scoped>\n",
       "    .dataframe tbody tr th:only-of-type {\n",
       "        vertical-align: middle;\n",
       "    }\n",
       "\n",
       "    .dataframe tbody tr th {\n",
       "        vertical-align: top;\n",
       "    }\n",
       "\n",
       "    .dataframe thead th {\n",
       "        text-align: right;\n",
       "    }\n",
       "</style>\n",
       "<table border=\"1\" class=\"dataframe\">\n",
       "  <thead>\n",
       "    <tr style=\"text-align: right;\">\n",
       "      <th></th>\n",
       "      <th>AccountID</th>\n",
       "      <th>SymbolCode</th>\n",
       "      <th>Qty</th>\n",
       "    </tr>\n",
       "  </thead>\n",
       "  <tbody>\n",
       "    <tr>\n",
       "      <th>7</th>\n",
       "      <td>CITIC</td>\n",
       "      <td>CNY</td>\n",
       "      <td>49558.48</td>\n",
       "    </tr>\n",
       "    <tr>\n",
       "      <th>12</th>\n",
       "      <td>CMS</td>\n",
       "      <td>CNY</td>\n",
       "      <td>36.86</td>\n",
       "    </tr>\n",
       "    <tr>\n",
       "      <th>13</th>\n",
       "      <td>CMS</td>\n",
       "      <td>HKD</td>\n",
       "      <td>321.23</td>\n",
       "    </tr>\n",
       "    <tr>\n",
       "      <th>16</th>\n",
       "      <td>HUATAI</td>\n",
       "      <td>CNY</td>\n",
       "      <td>4623.98</td>\n",
       "    </tr>\n",
       "    <tr>\n",
       "      <th>20</th>\n",
       "      <td>FUTU</td>\n",
       "      <td>HKD</td>\n",
       "      <td>98428.65</td>\n",
       "    </tr>\n",
       "  </tbody>\n",
       "</table>\n",
       "</div>"
      ],
      "text/plain": [
       "   AccountID SymbolCode       Qty\n",
       "7      CITIC        CNY  49558.48\n",
       "12       CMS        CNY     36.86\n",
       "13       CMS        HKD    321.23\n",
       "16    HUATAI        CNY   4623.98\n",
       "20      FUTU        HKD  98428.65"
      ]
     },
     "execution_count": 19,
     "metadata": {},
     "output_type": "execute_result"
    }
   ],
   "source": [
    "holdCur = hold[hold['SymbolCode'].isin(['CNY','HKD','USD'])]\n",
    "holdCur = holdCur.loc[:,('AccountID','SymbolCode','Qty')]\n",
    "holdCur"
   ]
  },
  {
   "cell_type": "code",
   "execution_count": 20,
   "metadata": {},
   "outputs": [
    {
     "data": {
      "text/html": [
       "<div>\n",
       "<style scoped>\n",
       "    .dataframe tbody tr th:only-of-type {\n",
       "        vertical-align: middle;\n",
       "    }\n",
       "\n",
       "    .dataframe tbody tr th {\n",
       "        vertical-align: top;\n",
       "    }\n",
       "\n",
       "    .dataframe thead th {\n",
       "        text-align: right;\n",
       "    }\n",
       "</style>\n",
       "<table border=\"1\" class=\"dataframe\">\n",
       "  <thead>\n",
       "    <tr style=\"text-align: right;\">\n",
       "      <th></th>\n",
       "      <th>AccountID</th>\n",
       "      <th>SymbolCode</th>\n",
       "      <th>Close</th>\n",
       "    </tr>\n",
       "  </thead>\n",
       "  <tbody>\n",
       "  </tbody>\n",
       "</table>\n",
       "</div>"
      ],
      "text/plain": [
       "Empty DataFrame\n",
       "Columns: [AccountID, SymbolCode, Close]\n",
       "Index: []"
      ]
     },
     "execution_count": 20,
     "metadata": {},
     "output_type": "execute_result"
    }
   ],
   "source": [
    "holdA = hold[hold['SymbolCode'].isin(['XXX'])]\n",
    "holdA = holdA.loc[:,('AccountID','SymbolCode','Close')]\n",
    "holdA['Close'] = holdA.apply(lambda x: abs(x['Close']), axis=1 )\n",
    "holdA"
   ]
  },
  {
   "cell_type": "code",
   "execution_count": 21,
   "metadata": {},
   "outputs": [
    {
     "data": {
      "text/html": [
       "<div>\n",
       "<style scoped>\n",
       "    .dataframe tbody tr th:only-of-type {\n",
       "        vertical-align: middle;\n",
       "    }\n",
       "\n",
       "    .dataframe tbody tr th {\n",
       "        vertical-align: top;\n",
       "    }\n",
       "\n",
       "    .dataframe thead th {\n",
       "        text-align: right;\n",
       "    }\n",
       "</style>\n",
       "<table border=\"1\" class=\"dataframe\">\n",
       "  <thead>\n",
       "    <tr style=\"text-align: right;\">\n",
       "      <th></th>\n",
       "      <th>AccountID</th>\n",
       "      <th>SymbolCode</th>\n",
       "      <th>Qty</th>\n",
       "      <th>Close</th>\n",
       "    </tr>\n",
       "  </thead>\n",
       "  <tbody>\n",
       "    <tr>\n",
       "      <th>0</th>\n",
       "      <td>CITIC</td>\n",
       "      <td>CNY</td>\n",
       "      <td>49558.48</td>\n",
       "      <td>NaN</td>\n",
       "    </tr>\n",
       "    <tr>\n",
       "      <th>1</th>\n",
       "      <td>CMS</td>\n",
       "      <td>CNY</td>\n",
       "      <td>36.86</td>\n",
       "      <td>NaN</td>\n",
       "    </tr>\n",
       "    <tr>\n",
       "      <th>2</th>\n",
       "      <td>CMS</td>\n",
       "      <td>HKD</td>\n",
       "      <td>321.23</td>\n",
       "      <td>NaN</td>\n",
       "    </tr>\n",
       "    <tr>\n",
       "      <th>3</th>\n",
       "      <td>HUATAI</td>\n",
       "      <td>CNY</td>\n",
       "      <td>4623.98</td>\n",
       "      <td>NaN</td>\n",
       "    </tr>\n",
       "    <tr>\n",
       "      <th>4</th>\n",
       "      <td>FUTU</td>\n",
       "      <td>HKD</td>\n",
       "      <td>98428.65</td>\n",
       "      <td>NaN</td>\n",
       "    </tr>\n",
       "  </tbody>\n",
       "</table>\n",
       "</div>"
      ],
      "text/plain": [
       "  AccountID SymbolCode       Qty Close\n",
       "0     CITIC        CNY  49558.48   NaN\n",
       "1       CMS        CNY     36.86   NaN\n",
       "2       CMS        HKD    321.23   NaN\n",
       "3    HUATAI        CNY   4623.98   NaN\n",
       "4      FUTU        HKD  98428.65   NaN"
      ]
     },
     "execution_count": 21,
     "metadata": {},
     "output_type": "execute_result"
    }
   ],
   "source": [
    "money = pd.merge(holdCur,holdA,on=['AccountID','SymbolCode'],how='outer')\n",
    "money"
   ]
  },
  {
   "cell_type": "code",
   "execution_count": 15,
   "metadata": {},
   "outputs": [
    {
     "data": {
      "text/plain": [
       "True"
      ]
     },
     "execution_count": 15,
     "metadata": {},
     "output_type": "execute_result"
    }
   ],
   "source": [
    "holdA.empty"
   ]
  },
  {
   "cell_type": "code",
   "execution_count": null,
   "metadata": {},
   "outputs": [],
   "source": []
  }
 ],
 "metadata": {
  "kernelspec": {
   "display_name": "Python 3",
   "language": "python",
   "name": "python3"
  },
  "language_info": {
   "codemirror_mode": {
    "name": "ipython",
    "version": 3
   },
   "file_extension": ".py",
   "mimetype": "text/x-python",
   "name": "python",
   "nbconvert_exporter": "python",
   "pygments_lexer": "ipython3",
   "version": "3.7.1"
  }
 },
 "nbformat": 4,
 "nbformat_minor": 2
}
